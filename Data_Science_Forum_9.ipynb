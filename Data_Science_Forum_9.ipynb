{
  "nbformat": 4,
  "nbformat_minor": 0,
  "metadata": {
    "colab": {
      "provenance": []
    },
    "kernelspec": {
      "name": "python3",
      "display_name": "Python 3"
    },
    "language_info": {
      "name": "python"
    }
  },
  "cells": [
    {
      "cell_type": "code",
      "execution_count": 53,
      "metadata": {
        "id": "rAmGBJxEA5LY"
      },
      "outputs": [],
      "source": [
        "from sklearn.model_selection import train_test_split\n",
        "from sklearn.metrics import davies_bouldin_score\n",
        "from sklearn.metrics import silhouette_score\n",
        "from sklearn.metrics import adjusted_rand_score\n",
        "from sklearn.metrics import calinski_harabasz_score\n",
        "from sklearn.datasets import load_diabetes\n",
        "\n",
        "from sklearn.cluster import KMeans\n",
        "from sklearn.cluster import AffinityPropagation\n",
        "from sklearn.cluster import AgglomerativeClustering\n",
        "from sklearn.cluster import SpectralClustering\n",
        "\n",
        "import pandas as pd\n",
        "import numpy as np"
      ]
    },
    {
      "cell_type": "code",
      "source": [
        "diabetes = load_diabetes()\n",
        "\n",
        "dfdiabetes = pd.DataFrame(data = diabetes.data, columns = diabetes.feature_names)\n",
        "\n",
        "true_labels = diabetes.target"
      ],
      "metadata": {
        "id": "dWIjLIbbBQcj"
      },
      "execution_count": 54,
      "outputs": []
    },
    {
      "cell_type": "code",
      "source": [
        "kmeans = KMeans(n_clusters = 3, random_state = 20, n_init = \"auto\").fit(dfdiabetes)\n",
        "kmeans_labels = kmeans.labels_\n",
        "\n",
        "# Scores\n",
        "silhouette_avg1 = silhouette_score(dfdiabetes, kmeans_labels)\n",
        "dbi_score1 = davies_bouldin_score(dfdiabetes, kmeans_labels)\n",
        "rand_score1 = adjusted_rand_score(true_labels, kmeans_labels)\n",
        "ch_score1 = calinski_harabasz_score(dfdiabetes, kmeans_labels)\n",
        "\n",
        "# Printing Scores\n",
        "print(\"Silhouette Score: \", silhouette_avg1)\n",
        "print(\"Davies Bouldin Index: \", dbi_score1)\n",
        "print(\"Rand Score: \", rand_score1)\n",
        "print(\"Calinski and Harabasz Score: \", ch_score1)"
      ],
      "metadata": {
        "colab": {
          "base_uri": "https://localhost:8080/"
        },
        "id": "GO3DbNoYC_8K",
        "outputId": "6253aa5c-d6b3-4a48-a3c8-774db18080ad"
      },
      "execution_count": 55,
      "outputs": [
        {
          "output_type": "stream",
          "name": "stdout",
          "text": [
            "Silhouette Score:  0.15411681922263756\n",
            "Davies Bouldin Index:  1.9846938646808459\n",
            "Rand Score:  0.002002516112236288\n",
            "Calinski and Harabasz Score:  117.38316863618155\n"
          ]
        }
      ]
    },
    {
      "cell_type": "code",
      "source": [
        "affpro = AffinityPropagation(random_state = 5).fit(dfdiabetes)\n",
        "affpro_labels = affpro.labels_\n",
        "\n",
        "# Scores\n",
        "silhouette_avg2 = silhouette_score(dfdiabetes, affpro_labels)\n",
        "dbi_score2 = davies_bouldin_score(dfdiabetes, affpro_labels)\n",
        "rand_score2 = adjusted_rand_score(true_labels, affpro_labels)\n",
        "ch_score2 = calinski_harabasz_score(dfdiabetes, affpro_labels)\n",
        "\n",
        "# Printing Scores\n",
        "print(\"Silhouette Score: \", silhouette_avg2)\n",
        "print(\"Davies Bouldin Index: \", dbi_score2)\n",
        "print(\"Rand Score: \", rand_score2)\n",
        "print(\"Calinski and Harabasz Score: \", ch_score2)"
      ],
      "metadata": {
        "colab": {
          "base_uri": "https://localhost:8080/"
        },
        "id": "ycsh6KI2DeoC",
        "outputId": "5d8d96fd-0a86-4bd8-eb60-5569d15c5471"
      },
      "execution_count": 56,
      "outputs": [
        {
          "output_type": "stream",
          "name": "stdout",
          "text": [
            "Silhouette Score:  0.11169896203140073\n",
            "Davies Bouldin Index:  1.693746308792716\n",
            "Rand Score:  -0.000491347105969282\n",
            "Calinski and Harabasz Score:  30.038096344706425\n"
          ]
        }
      ]
    },
    {
      "cell_type": "code",
      "source": [
        "AClustering = AgglomerativeClustering(n_clusters = 3).fit(dfdiabetes)\n",
        "agg_labels = AClustering.labels_\n",
        "\n",
        "# Scores\n",
        "silhouette_avg3 = silhouette_score(dfdiabetes, agg_labels)\n",
        "dbi_score3 = davies_bouldin_score(dfdiabetes, agg_labels)\n",
        "rand_score3 = adjusted_rand_score(true_labels, agg_labels)\n",
        "ch_score3 = calinski_harabasz_score(dfdiabetes, agg_labels)\n",
        "\n",
        "# Printing Scores\n",
        "print(\"Silhouette Score: \", silhouette_avg3)\n",
        "print(\"Davies Bouldin Index: \", dbi_score3)\n",
        "print(\"Rand Score: \", rand_score3)\n",
        "print(\"Calinski and Harabasz Score: \", ch_score3)"
      ],
      "metadata": {
        "colab": {
          "base_uri": "https://localhost:8080/"
        },
        "id": "bXsLx-ZgE0NC",
        "outputId": "0febbbb1-01db-4e0f-acb2-66505bf9651e"
      },
      "execution_count": 57,
      "outputs": [
        {
          "output_type": "stream",
          "name": "stdout",
          "text": [
            "Silhouette Score:  0.12496473908632375\n",
            "Davies Bouldin Index:  2.1321806623880435\n",
            "Rand Score:  0.0019524758547319098\n",
            "Calinski and Harabasz Score:  95.75864313388199\n"
          ]
        }
      ]
    },
    {
      "cell_type": "code",
      "source": [
        "SClustering = SpectralClustering(n_clusters = 3, random_state = 20).fit(dfdiabetes)\n",
        "spec_labels = SClustering.labels_\n",
        "\n",
        "# Scores\n",
        "silhouette_avg4 = silhouette_score(dfdiabetes, spec_labels)\n",
        "dbi_score4 = davies_bouldin_score(dfdiabetes, spec_labels)\n",
        "rand_score4 = adjusted_rand_score(true_labels, spec_labels)\n",
        "ch_score4 = calinski_harabasz_score(dfdiabetes, spec_labels)\n",
        "\n",
        "# Printing Scores\n",
        "print(\"Spectral Clustering\")\n",
        "print(\"Silhouette Score: \", silhouette_avg4)\n",
        "print(\"Davies Bouldin Index: \", dbi_score4)\n",
        "print(\"Rand Score: \", rand_score4)\n",
        "print(\"Calinski and Harabasz Score: \", ch_score4)"
      ],
      "metadata": {
        "colab": {
          "base_uri": "https://localhost:8080/"
        },
        "id": "IFPm_UUxFEeb",
        "outputId": "8850dceb-3b8e-4c79-e37d-97a8e60057eb"
      },
      "execution_count": 58,
      "outputs": [
        {
          "output_type": "stream",
          "name": "stdout",
          "text": [
            "Spectral Clustering\n",
            "Silhouette Score:  0.16918948300747483\n",
            "Davies Bouldin Index:  1.999871827747316\n",
            "Rand Score:  0.0006922249325606241\n",
            "Calinski and Harabasz Score:  103.43492466524917\n"
          ]
        }
      ]
    }
  ]
}